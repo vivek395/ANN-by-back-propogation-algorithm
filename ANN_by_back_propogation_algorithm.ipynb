{
  "nbformat": 4,
  "nbformat_minor": 0,
  "metadata": {
    "colab": {
      "name": "ANN-by-back-propogation-algorithm.ipynb",
      "provenance": [],
      "collapsed_sections": [],
      "authorship_tag": "ABX9TyMkc+f/9QLsDQUzqAdmJPoI",
      "include_colab_link": true
    },
    "kernelspec": {
      "name": "python3",
      "display_name": "Python 3"
    },
    "language_info": {
      "name": "python"
    }
  },
  "cells": [
    {
      "cell_type": "markdown",
      "metadata": {
        "id": "view-in-github",
        "colab_type": "text"
      },
      "source": [
        "<a href=\"https://colab.research.google.com/github/vivek395/ANN-by-back-propogation-algorithm-1/blob/main/ANN_by_back_propogation_algorithm.ipynb\" target=\"_parent\"><img src=\"https://colab.research.google.com/assets/colab-badge.svg\" alt=\"Open In Colab\"/></a>"
      ]
    },
    {
      "cell_type": "code",
      "execution_count": 1,
      "metadata": {
        "colab": {
          "base_uri": "https://localhost:8080/"
        },
        "id": "Yi_Ty5dY7Egm",
        "outputId": "4246da5d-2e39-4f7d-c592-7bc91258c90d"
      },
      "outputs": [
        {
          "output_type": "stream",
          "name": "stdout",
          "text": [
            "Input:\n",
            "[[0.66666667 1.        ]\n",
            " [0.33333333 0.55555556]\n",
            " [1.         0.66666667]]\n",
            "Actual Output:\n",
            "[[0.92]\n",
            " [0.86]\n",
            " [0.89]]\n",
            "Predicted Output:\n",
            "[[0.82014178]\n",
            " [0.80857423]\n",
            " [0.82390883]]\n"
          ]
        }
      ],
      "source": [
        "import numpy as np\n",
        "X=np.array(([2,9],[1,5],[3,6]),dtype=float)\n",
        "y=np.array(([92],[86],[89]),dtype=float)\n",
        "X=X/np.amax(X,axis=0)\n",
        "y=y/100\n",
        "\n",
        "def sigmoid(X):\n",
        "    return 1/(1+np.exp(-X))\n",
        "def derivatives_sigmoid(x):\n",
        "    return x*(1-x)\n",
        "\n",
        "epoch=7000\n",
        "lr=0.1\n",
        "inputlayer_neurons=2 \n",
        "hiddenlayer_neurons=3 \n",
        "output_neurons=1 \n",
        "\n",
        "wh=np.random.uniform(size=(inputlayer_neurons,hiddenlayer_neurons))\n",
        "bh=np.random.uniform(size=(1,hiddenlayer_neurons))\n",
        "wout=np.random.uniform(size=(hiddenlayer_neurons,output_neurons))\n",
        "bout=np.random.uniform(size=(1,output_neurons))\n",
        "\n",
        "\n",
        "for i in range(epoch):\n",
        "\n",
        "    hinp1=np.dot(X,wh)\n",
        "hinp=hinp1+bh\n",
        "hlayer_act=sigmoid(hinp)\n",
        "outinp1=np.dot(hlayer_act,wout)\n",
        "outinp=outinp1+bout\n",
        "output=sigmoid(outinp)\n",
        "\n",
        "\n",
        "EO=y-output\n",
        "outgrad=derivatives_sigmoid(output)\n",
        "d_output=EO*outgrad\n",
        "EH=d_output.dot(wout.T)\n",
        "hiddengrad=derivatives_sigmoid(hlayer_act)\n",
        "d_hiddenlayer=EH*hiddengrad\n",
        "wout+=hlayer_act.T.dot(d_output)*lr\n",
        "wh+=X.T.dot(d_hiddenlayer)*lr\n",
        "print(\"Input:\\n\"+str(X))\n",
        "print(\"Actual Output:\\n\"+str(y))\n",
        "print(\"Predicted Output:\\n\"+str(output))"
      ]
    },
    {
      "cell_type": "code",
      "source": [
        ""
      ],
      "metadata": {
        "id": "yQbrcDeeMTQU"
      },
      "execution_count": null,
      "outputs": []
    }
  ]
}